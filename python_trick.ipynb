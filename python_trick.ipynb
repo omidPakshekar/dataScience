{
 "cells": [
  {
   "cell_type": "code",
   "execution_count": 1,
   "metadata": {},
   "outputs": [
    {
     "name": "stdout",
     "output_type": "stream",
     "text": [
      "0 mae\n",
      "1 anderson\n",
      "2 new york\n",
      "3 london\n"
     ]
    }
   ],
   "source": [
    "cities = ['mae', 'anderson', 'new york', 'london']\n",
    "# i = 0\n",
    "# for city in cities:\n",
    "#     print(i, city)\n",
    "#     i += 1\n",
    "# the good way\n",
    "for i, city in enumerate(cities):\n",
    "    print(i, city)"
   ]
  },
  {
   "cell_type": "code",
   "execution_count": 8,
   "metadata": {},
   "outputs": [
    {
     "name": "stdout",
     "output_type": "stream",
     "text": [
      "1 4\n",
      "2 5\n",
      "3 6\n",
      "1 4\n",
      "2 5\n",
      "3 6\n"
     ]
    }
   ],
   "source": [
    "x_list = [1,2,3]\n",
    "y_list = [4,5,6]\n",
    "for i in range(len(x_list)):\n",
    "    x = x_list[i]\n",
    "    y= y_list[i]\n",
    "    print(x, y)\n",
    "# good way\n",
    "for x,y in zip(x_list, y_list):\n",
    "    print(x, y)"
   ]
  },
  {
   "cell_type": "code",
   "execution_count": 9,
   "metadata": {},
   "outputs": [
    {
     "name": "stdout",
     "output_type": "stream",
     "text": [
      "x= 23 y= 10\n"
     ]
    }
   ],
   "source": [
    "# trick 3\n",
    "# if we have two variable and we want to swap them\n",
    "x = 10\n",
    "y = 23\n",
    "x,y = y, x\n",
    "print('x=',x,'y=', y)\n"
   ]
  },
  {
   "cell_type": "code",
   "execution_count": 15,
   "metadata": {},
   "outputs": [],
   "source": [
    "# trick 4\n",
    "ages = {\n",
    "    'Mary': 31,\n",
    "    'Jon': 28\n",
    "}\n",
    "\n",
    "# bad way \n",
    "if 'Dick' in ages:\n",
    "    age = ages['Dick']\n",
    "else:\n",
    "    age = 'Unknown'\n",
    "# good way\n",
    "age = ages.get('Dick', 'Unknow')\n",
    "\n"
   ]
  },
  {
   "cell_type": "markdown",
   "metadata": {},
   "source": [
    "# haji pashmam for ham else dre"
   ]
  },
  {
   "cell_type": "code",
   "execution_count": 16,
   "metadata": {},
   "outputs": [
    {
     "name": "stdout",
     "output_type": "stream",
     "text": [
      "Not Found!\n",
      "i cant find\n"
     ]
    }
   ],
   "source": [
    "# trick 5\n",
    "needle = 'd'\n",
    "haystack = ['a', 'b', 'c']\n",
    "found = False\n",
    "for letter in haystack:\n",
    "    if needle == letter:\n",
    "        print('Found!')\n",
    "        break\n",
    "if not found:\n",
    "    print('Not Found!')\n",
    "    \n",
    "for letter in haystack:\n",
    "    if needle == letter:\n",
    "        print('Found!')\n",
    "        break\n",
    "else: # if no break occure\n",
    "    print('i cant find')"
   ]
  },
  {
   "cell_type": "code",
   "execution_count": null,
   "metadata": {},
   "outputs": [],
   "source": []
  },
  {
   "cell_type": "code",
   "execution_count": null,
   "metadata": {},
   "outputs": [],
   "source": []
  },
  {
   "cell_type": "code",
   "execution_count": null,
   "metadata": {},
   "outputs": [],
   "source": []
  }
 ],
 "metadata": {
  "kernelspec": {
   "display_name": "Python 3",
   "language": "python",
   "name": "python3"
  },
  "language_info": {
   "codemirror_mode": {
    "name": "ipython",
    "version": 3
   },
   "file_extension": ".py",
   "mimetype": "text/x-python",
   "name": "python",
   "nbconvert_exporter": "python",
   "pygments_lexer": "ipython3",
   "version": "3.6.9"
  }
 },
 "nbformat": 4,
 "nbformat_minor": 2
}
